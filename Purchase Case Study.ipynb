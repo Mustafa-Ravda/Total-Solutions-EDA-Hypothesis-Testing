{
 "cells": [
  {
   "cell_type": "markdown",
   "id": "7867d1d7-ae49-4d37-9201-d1aa96787fab",
   "metadata": {},
   "source": [
    "# **Total Solutions Purchase Analysis**"
   ]
  },
  {
   "cell_type": "markdown",
   "id": "4e119009-5adf-4795-807e-92bdc43dd10a",
   "metadata": {},
   "source": [
    "## Problem Statement"
   ]
  },
  {
   "cell_type": "markdown",
   "id": "cab60d0a-dcbe-420b-a6d5-bf8186531c7b",
   "metadata": {},
   "source": [
    "### Total Solutions is a conglomerate that has a chain of stores across cities in India. They have collected data on their sales orders and want to derive insights to understand business performance across various metrics. They had discovered some insights from the past data and want to determine if those metrics still hold true \n",
    "\n",
    "#### We have a dataset that has information about the purchase amount for various orders, along with details about users, products, age group, and other important features"
   ]
  },
  {
   "cell_type": "markdown",
   "id": "4852bbf6-e251-4e66-89cb-3333b7bbec4d",
   "metadata": {},
   "source": [
    "<hr>\n",
    "\n",
    "## **Dataset Dictionary**\n",
    "\n",
    "* **User_ID:**\n",
    "  * **This column represents the unique identifier for each user or customer who made the purchase.**\n",
    "\n",
    "* **Product_ID:**\n",
    "  * **This column contains the unique identifier for each product that was purchased.**\n",
    "\n",
    "* **Gender:**\n",
    "  * **This column indicates the gender of the user who made the purchase. It could have values such as \"Male\" or \"Female.\"**\n",
    "\n",
    "* **Age:**\n",
    "  * **This column represents the age group or category of the user who made the purchase. It can be categorized into different age ranges, such as \"18-25,\" \"26-35,\" \"36-45,\" and so on.**\n",
    "\n",
    "* **Occupation:**\n",
    "  * **This column denotes the occupation of the user who made the purchase. It may include numerical or categorical values representing different professions or job types.**\n",
    "\n",
    "* **City_Category:**\n",
    "  * **This column categorizes the city or region from which the purchase was made. It typically includes labels like \"A,\" \"B,\" or \"C\" to represent different city categories or types.**\n",
    "\n",
    "* **Stay_In_Current_City_Years:**\n",
    "  * **This column indicates the number of years the user has been living in their current city. It may have values such as \"0\" for less than a year, \"1\" for one year, \"2\" for two years, and so on.**\n",
    "\n",
    "* **Marital_Status:**\n",
    "  * **This column represents the marital status of the user. It could be encoded as \"0\" for unmarried/single and \"1\" for married.**\n",
    "\n",
    "* **Product_Category_1:**\n",
    "  * **This column refers to the primary category of the purchased product. It may contain numerical or categorical values representing different product categories.**\n",
    "\n",
    "* **Product_Category_2:**\n",
    "  * **This column corresponds to the secondary category of the purchased product. It could also contain numerical or categorical values, but it is not necessarily present in all datasets.**\n",
    "\n",
    "* **Product_Category_3:**\n",
    "  * **This column represents the tertiary category of the purchased product. Similar to the previous column, it may include numerical or categorical values and might not be present in all datasets.**\n",
    "\n",
    "* **Purchase:**\n",
    "  * **This column contains the amount or value of the purchase made by the user. It represents the monetary value or quantity associated with the transaction.**\n",
    "\n",
    "<hr>"
   ]
  },
  {
   "cell_type": "markdown",
   "id": "dfc1fad3-f447-49dc-ade3-23bb8dffea0c",
   "metadata": {},
   "source": [
    "## Importing Preliminary Libraries\n",
    "\n"
   ]
  },
  {
   "cell_type": "code",
   "execution_count": 6,
   "id": "2b153f8f-7679-4ced-9bce-12803d07caef",
   "metadata": {},
   "outputs": [],
   "source": [
    "import numpy as np\n",
    "import pandas as pd\n",
    "import matplotlib.pyplot as plt\n",
    "import seaborn as sns\n",
    "import warnings\n",
    "warnings.filterwarnings(\"ignore\")"
   ]
  },
  {
   "cell_type": "markdown",
   "id": "4d039ca6-2d09-4293-b0b9-727030f4234f",
   "metadata": {},
   "source": [
    "<hr>\n",
    "\n",
    "## Importing Dataset \n"
   ]
  },
  {
   "cell_type": "code",
   "execution_count": 8,
   "id": "130c5b9f-7167-44f3-a7e9-7629a9d07b0d",
   "metadata": {},
   "outputs": [],
   "source": [
    "df = pd.read_csv(\"purchase_data.csv\")"
   ]
  },
  {
   "cell_type": "code",
   "execution_count": 9,
   "id": "bad2d164-297a-4b8d-a235-5b26f44ec685",
   "metadata": {},
   "outputs": [
    {
     "data": {
      "text/html": [
       "<div>\n",
       "<style scoped>\n",
       "    .dataframe tbody tr th:only-of-type {\n",
       "        vertical-align: middle;\n",
       "    }\n",
       "\n",
       "    .dataframe tbody tr th {\n",
       "        vertical-align: top;\n",
       "    }\n",
       "\n",
       "    .dataframe thead th {\n",
       "        text-align: right;\n",
       "    }\n",
       "</style>\n",
       "<table border=\"1\" class=\"dataframe\">\n",
       "  <thead>\n",
       "    <tr style=\"text-align: right;\">\n",
       "      <th></th>\n",
       "      <th>User_ID</th>\n",
       "      <th>Product_ID</th>\n",
       "      <th>Gender</th>\n",
       "      <th>Age</th>\n",
       "      <th>Occupation</th>\n",
       "      <th>City_Category</th>\n",
       "      <th>Stay_In_Current_City_Years</th>\n",
       "      <th>Marital_Status</th>\n",
       "      <th>Product_Category_1</th>\n",
       "      <th>Product_Category_2</th>\n",
       "      <th>Product_Category_3</th>\n",
       "      <th>Purchase</th>\n",
       "    </tr>\n",
       "  </thead>\n",
       "  <tbody>\n",
       "    <tr>\n",
       "      <th>0</th>\n",
       "      <td>1000001</td>\n",
       "      <td>P00069042</td>\n",
       "      <td>F</td>\n",
       "      <td>0-17</td>\n",
       "      <td>10.0</td>\n",
       "      <td>A</td>\n",
       "      <td>2</td>\n",
       "      <td>0.0</td>\n",
       "      <td>3.0</td>\n",
       "      <td>NaN</td>\n",
       "      <td>NaN</td>\n",
       "      <td>8370.0</td>\n",
       "    </tr>\n",
       "    <tr>\n",
       "      <th>1</th>\n",
       "      <td>1000001</td>\n",
       "      <td>P00248942</td>\n",
       "      <td>F</td>\n",
       "      <td>0-17</td>\n",
       "      <td>10.0</td>\n",
       "      <td>A</td>\n",
       "      <td>2</td>\n",
       "      <td>0.0</td>\n",
       "      <td>1.0</td>\n",
       "      <td>6.0</td>\n",
       "      <td>14.0</td>\n",
       "      <td>15200.0</td>\n",
       "    </tr>\n",
       "    <tr>\n",
       "      <th>2</th>\n",
       "      <td>1000001</td>\n",
       "      <td>P00087842</td>\n",
       "      <td>F</td>\n",
       "      <td>0-17</td>\n",
       "      <td>10.0</td>\n",
       "      <td>A</td>\n",
       "      <td>2</td>\n",
       "      <td>0.0</td>\n",
       "      <td>12.0</td>\n",
       "      <td>NaN</td>\n",
       "      <td>NaN</td>\n",
       "      <td>1422.0</td>\n",
       "    </tr>\n",
       "    <tr>\n",
       "      <th>3</th>\n",
       "      <td>1000001</td>\n",
       "      <td>P00085442</td>\n",
       "      <td>F</td>\n",
       "      <td>0-17</td>\n",
       "      <td>10.0</td>\n",
       "      <td>A</td>\n",
       "      <td>2</td>\n",
       "      <td>0.0</td>\n",
       "      <td>12.0</td>\n",
       "      <td>14.0</td>\n",
       "      <td>NaN</td>\n",
       "      <td>1057.0</td>\n",
       "    </tr>\n",
       "    <tr>\n",
       "      <th>4</th>\n",
       "      <td>1000002</td>\n",
       "      <td>P00285442</td>\n",
       "      <td>M</td>\n",
       "      <td>55+</td>\n",
       "      <td>16.0</td>\n",
       "      <td>C</td>\n",
       "      <td>4+</td>\n",
       "      <td>0.0</td>\n",
       "      <td>8.0</td>\n",
       "      <td>NaN</td>\n",
       "      <td>NaN</td>\n",
       "      <td>7969.0</td>\n",
       "    </tr>\n",
       "  </tbody>\n",
       "</table>\n",
       "</div>"
      ],
      "text/plain": [
       "   User_ID Product_ID Gender   Age  Occupation City_Category  \\\n",
       "0  1000001  P00069042      F  0-17        10.0             A   \n",
       "1  1000001  P00248942      F  0-17        10.0             A   \n",
       "2  1000001  P00087842      F  0-17        10.0             A   \n",
       "3  1000001  P00085442      F  0-17        10.0             A   \n",
       "4  1000002  P00285442      M   55+        16.0             C   \n",
       "\n",
       "  Stay_In_Current_City_Years  Marital_Status  Product_Category_1  \\\n",
       "0                          2             0.0                 3.0   \n",
       "1                          2             0.0                 1.0   \n",
       "2                          2             0.0                12.0   \n",
       "3                          2             0.0                12.0   \n",
       "4                         4+             0.0                 8.0   \n",
       "\n",
       "   Product_Category_2  Product_Category_3  Purchase  \n",
       "0                 NaN                 NaN    8370.0  \n",
       "1                 6.0                14.0   15200.0  \n",
       "2                 NaN                 NaN    1422.0  \n",
       "3                14.0                 NaN    1057.0  \n",
       "4                 NaN                 NaN    7969.0  "
      ]
     },
     "execution_count": 9,
     "metadata": {},
     "output_type": "execute_result"
    }
   ],
   "source": [
    "df.head()"
   ]
  },
  {
   "cell_type": "markdown",
   "id": "583571f2-3f21-43f5-819c-1ba1e9c8406b",
   "metadata": {},
   "source": [
    "<hr>\n",
    "\n",
    "## Exploratory Data Analysis"
   ]
  },
  {
   "cell_type": "code",
   "execution_count": 11,
   "id": "876c76b3-fe9a-4660-ac21-5dfe05d04d63",
   "metadata": {},
   "outputs": [
    {
     "name": "stdout",
     "output_type": "stream",
     "text": [
      "<class 'pandas.core.frame.DataFrame'>\n",
      "RangeIndex: 263015 entries, 0 to 263014\n",
      "Data columns (total 12 columns):\n",
      " #   Column                      Non-Null Count   Dtype  \n",
      "---  ------                      --------------   -----  \n",
      " 0   User_ID                     263015 non-null  int64  \n",
      " 1   Product_ID                  263014 non-null  object \n",
      " 2   Gender                      263014 non-null  object \n",
      " 3   Age                         263014 non-null  object \n",
      " 4   Occupation                  263014 non-null  float64\n",
      " 5   City_Category               263014 non-null  object \n",
      " 6   Stay_In_Current_City_Years  263014 non-null  object \n",
      " 7   Marital_Status              263014 non-null  float64\n",
      " 8   Product_Category_1          263014 non-null  float64\n",
      " 9   Product_Category_2          181501 non-null  float64\n",
      " 10  Product_Category_3          80582 non-null   float64\n",
      " 11  Purchase                    263014 non-null  float64\n",
      "dtypes: float64(6), int64(1), object(5)\n",
      "memory usage: 24.1+ MB\n"
     ]
    }
   ],
   "source": [
    "df.info()"
   ]
  },
  {
   "cell_type": "markdown",
   "id": "19e36371-0513-4c4c-b2ee-0fee1df00e01",
   "metadata": {},
   "source": [
    "**We have a total 263,015 records. We have significant null values in Product_Category_2 and Product_Category_3. All the other columns have one null value**"
   ]
  },
  {
   "cell_type": "code",
   "execution_count": 13,
   "id": "be4903ea-03a7-4949-8fe7-0a31215bb4ad",
   "metadata": {},
   "outputs": [
    {
     "data": {
      "text/plain": [
       "User_ID                            0\n",
       "Product_ID                         1\n",
       "Gender                             1\n",
       "Age                                1\n",
       "Occupation                         1\n",
       "City_Category                      1\n",
       "Stay_In_Current_City_Years         1\n",
       "Marital_Status                     1\n",
       "Product_Category_1                 1\n",
       "Product_Category_2             81514\n",
       "Product_Category_3            182433\n",
       "Purchase                           1\n",
       "dtype: int64"
      ]
     },
     "execution_count": 13,
     "metadata": {},
     "output_type": "execute_result"
    }
   ],
   "source": [
    "#To verify this, we will check null values\n",
    "df.isnull().sum()"
   ]
  },
  {
   "cell_type": "markdown",
   "id": "13da6b9a-32b4-4763-8368-a61a709c5e5b",
   "metadata": {},
   "source": [
    "**Product_Category_2 & Product_Category_3 have null values in instances where a user has not purchased any products from these categories. We will fill these Null values with 0**"
   ]
  },
  {
   "cell_type": "code",
   "execution_count": 15,
   "id": "8992d83c-7077-4801-9dbb-63d80c578dea",
   "metadata": {},
   "outputs": [],
   "source": [
    "df[\"Product_Category_2\"] = df[\"Product_Category_2\"].fillna(0)\n",
    "df[\"Product_Category_3\"] = df[\"Product_Category_3\"].fillna(0)"
   ]
  },
  {
   "cell_type": "code",
   "execution_count": 16,
   "id": "3d167eda-ec83-4ee2-897b-a35663dd37af",
   "metadata": {},
   "outputs": [
    {
     "data": {
      "text/plain": [
       "User_ID                       0\n",
       "Product_ID                    1\n",
       "Gender                        1\n",
       "Age                           1\n",
       "Occupation                    1\n",
       "City_Category                 1\n",
       "Stay_In_Current_City_Years    1\n",
       "Marital_Status                1\n",
       "Product_Category_1            1\n",
       "Product_Category_2            0\n",
       "Product_Category_3            0\n",
       "Purchase                      1\n",
       "dtype: int64"
      ]
     },
     "execution_count": 16,
     "metadata": {},
     "output_type": "execute_result"
    }
   ],
   "source": [
    "#Verifying Null values after filling with 0\n",
    "df.isnull().sum()"
   ]
  },
  {
   "cell_type": "code",
   "execution_count": 17,
   "id": "0a05c4f5-cd1e-47e2-8129-9006933891bb",
   "metadata": {},
   "outputs": [],
   "source": [
    "# We can drop the remaining null values\n",
    "df = df.dropna()"
   ]
  },
  {
   "cell_type": "code",
   "execution_count": 18,
   "id": "4597ab4e-4bf4-43e4-bf87-c68914ed44c9",
   "metadata": {},
   "outputs": [
    {
     "data": {
      "text/plain": [
       "0"
      ]
     },
     "execution_count": 18,
     "metadata": {},
     "output_type": "execute_result"
    }
   ],
   "source": [
    "# Verifying null values after dropping them\n",
    "df.isnull().sum().sum()"
   ]
  },
  {
   "cell_type": "markdown",
   "id": "18c13195-e7cc-47d6-8f51-982a649b2e89",
   "metadata": {},
   "source": [
    "**All the null values have been removed**"
   ]
  },
  {
   "cell_type": "markdown",
   "id": "5509482e-6b84-4b28-b301-5f189fddbced",
   "metadata": {},
   "source": [
    "### Analyzing Gender Column"
   ]
  },
  {
   "cell_type": "code",
   "execution_count": 21,
   "id": "c608afaa-6e5f-46c3-81b5-e56af84adad6",
   "metadata": {},
   "outputs": [
    {
     "data": {
      "text/plain": [
       "Gender\n",
       "M    198488\n",
       "F     64526\n",
       "Name: count, dtype: int64"
      ]
     },
     "execution_count": 21,
     "metadata": {},
     "output_type": "execute_result"
    }
   ],
   "source": [
    "df[\"Gender\"].value_counts()    #Total Purchases by each Gender"
   ]
  },
  {
   "cell_type": "markdown",
   "id": "668a5416-96f9-4df1-af66-6e9b7babf05e",
   "metadata": {},
   "source": [
    "**Total Purchases by male is 198,488 while by women made 64526 purchases**"
   ]
  },
  {
   "cell_type": "code",
   "execution_count": 23,
   "id": "f362ca95-4f97-4416-955f-0a768bf1e521",
   "metadata": {},
   "outputs": [
    {
     "data": {
      "text/plain": [
       "<Axes: xlabel='Gender'>"
      ]
     },
     "execution_count": 23,
     "metadata": {},
     "output_type": "execute_result"
    },
    {
     "data": {
      "image/png": "[encoded data removed]",
      "text/plain": [
       "<Figure size 640x480 with 1 Axes>"
      ]
     },
     "metadata": {},
     "output_type": "display_data"
    }
   ],
   "source": [
    "# Visualizing total purchases by Gender\n",
    "df[\"Gender\"].value_counts().plot.bar()"
   ]
  },
  {
   "cell_type": "code",
   "execution_count": 24,
   "id": "6ce92233-6252-4f6e-b64f-1c84a9e3ae8b",
   "metadata": {},
   "outputs": [
    {
     "name": "stdout",
     "output_type": "stream",
     "text": [
      "Proportion of Male:\n",
      "75.46670519440029\n",
      "Proportion of Female:\n",
      "24.533294805599702\n"
     ]
    }
   ],
   "source": [
    "# Proportion of Purchases by Male\n",
    "print(\"Proportion of Male:\")\n",
    "print(df[\"Gender\"].value_counts()[0]/len(df)*100)\n",
    "\n",
    "# Proportion of Purchases by Female\n",
    "print(\"Proportion of Female:\")\n",
    "print(df[\"Gender\"].value_counts()[1]/len(df)*100)"
   ]
  },
  {
   "cell_type": "markdown",
   "id": "12a2b5e1-6f88-43e3-80b5-71b0a03af8a4",
   "metadata": {},
   "source": [
    "**Male made 75.47% of total purchases while women made 24.43%**"
   ]
  },
  {
   "cell_type": "markdown",
   "id": "c3b9da2a-0d5f-4ba3-9644-86421245cee9",
   "metadata": {},
   "source": [
    "**Since the user_id is repeated, we can use groupby to find the total users by gender**"
   ]
  },
  {
   "cell_type": "code",
   "execution_count": 27,
   "id": "45fa2f42-0aa3-4a37-b5aa-f2de0175a063",
   "metadata": {},
   "outputs": [
    {
     "data": {
      "text/plain": [
       "Gender\n",
       "M    4225\n",
       "F    1666\n",
       "Name: count, dtype: int64"
      ]
     },
     "execution_count": 27,
     "metadata": {},
     "output_type": "execute_result"
    }
   ],
   "source": [
    "grouped_gender = df.groupby([\"Gender\", \"User_ID\"]).size().reset_index(name=\"Count\")\n",
    "grouped_gender[\"Gender\"].value_counts()"
   ]
  },
  {
   "cell_type": "code",
   "execution_count": 28,
   "id": "932c6ecd-eed2-42fd-a140-cced3a7a4a65",
   "metadata": {},
   "outputs": [
    {
     "data": {
      "image/png": "[encoded data removed]",
      "text/plain": [
       "<Figure size 600x400 with 1 Axes>"
      ]
     },
     "metadata": {},
     "output_type": "display_data"
    }
   ],
   "source": [
    "# Visualizing number of users by Gender\n",
    "plt.figure(figsize=(6,4))\n",
    "sns.countplot(x=grouped_gender[\"Gender\"], palette=\"viridis\")\n",
    "plt.title(\"Gender Distribution\")\n",
    "plt.grid(axis=\"y\", linewidth=0.3, alpha=0.4)\n",
    "plt.show()"
   ]
  },
  {
   "cell_type": "markdown",
   "id": "aac95097-3510-44d3-a564-99a06bfad0e4",
   "metadata": {},
   "source": [
    "**Total number of male users is 4225 while female users stand at 1666, making total users 5891**"
   ]
  },
  {
   "cell_type": "markdown",
   "id": "d4e5afbd-0db2-4a74-b748-72be52ac1292",
   "metadata": {},
   "source": [
    "### Analyzing Age Column"
   ]
  },
  {
   "cell_type": "code",
   "execution_count": 31,
   "id": "7d8eb407-0b4c-4bdd-a4a4-8244585aa0a3",
   "metadata": {},
   "outputs": [
    {
     "data": {
      "text/plain": [
       "Age\n",
       "26-35    104912\n",
       "36-45     52396\n",
       "18-25     48193\n",
       "46-50     21619\n",
       "51-55     18509\n",
       "55+       10321\n",
       "0-17       7064\n",
       "Name: count, dtype: int64"
      ]
     },
     "execution_count": 31,
     "metadata": {},
     "output_type": "execute_result"
    }
   ],
   "source": [
    "df[\"Age\"].value_counts()   #Number of purchases by each Age group"
   ]
  },
  {
   "cell_type": "markdown",
   "id": "122046ef-9b05-4c60-896e-53a24dac3241",
   "metadata": {},
   "source": [
    "**Age group 26-35 has the highest purchases - 104,912. It is almost twice as the second most purchased group 36-45, which has 52,396 purchases. Age group 0-17 has the least number of purchases at just 7064**"
   ]
  },
  {
   "cell_type": "code",
   "execution_count": 33,
   "id": "af022ea7-0696-4a94-a0b6-45d18485d128",
   "metadata": {},
   "outputs": [
    {
     "name": "stdout",
     "output_type": "stream",
     "text": [
      "     Age  User_ID\n",
      "2  26-35     2053\n",
      "3  36-45     1167\n",
      "1  18-25     1069\n",
      "4  46-50      531\n",
      "5  51-55      481\n",
      "6    55+      372\n",
      "0   0-17      218\n"
     ]
    },
    {
     "data": {
      "image/png": "[encoded data removed]",
      "text/plain": [
       "<Figure size 600x400 with 1 Axes>"
      ]
     },
     "metadata": {},
     "output_type": "display_data"
    }
   ],
   "source": [
    "# Group by Age and unique users for each age group\n",
    "grouped_age = df.groupby([\"Age\"])[\"User_ID\"].nunique().reset_index().sort_values(by=\"User_ID\", ascending=False)\n",
    "\n",
    "# Displaying unique users for each age group\n",
    "print(grouped_age)\n",
    "\n",
    "# Visualizing for unique user for each age group\n",
    "plt.figure(figsize=(6,4))\n",
    "sns.barplot(data=grouped_age, x=\"Age\", y=\"User_ID\", palette=\"viridis\", order=grouped_age[\"Age\"])\n",
    "plt.title(\"Users by Age Group\")\n",
    "plt.grid(axis=\"y\", linewidth=0.3, alpha=0.4)\n",
    "plt.show()"
   ]
  },
  {
   "cell_type": "markdown",
   "id": "fac9e3f0-494e-447e-9044-046af1ed6557",
   "metadata": {},
   "source": [
    "**Age group 26-35 has maximum users with 2053 while 0-17 age group has the least at 218**"
   ]
  },
  {
   "cell_type": "code",
   "execution_count": 85,
   "id": "fc00ba4c-e5ad-44d1-9117-928764de7041",
   "metadata": {},
   "outputs": [
    {
     "name": "stdout",
     "output_type": "stream",
     "text": [
      "          Purchase\n",
      "Age               \n",
      "26-35  975615086.0\n",
      "36-45  492346613.0\n",
      "18-25  442696277.0\n",
      "46-50  200909949.0\n",
      "51-55  178134937.0\n",
      "55+     97231211.0\n",
      "0-17    64173683.0\n"
     ]
    },
    {
     "data": {
      "image/png": "[encoded data removed]",
      "text/plain": [
       "<Figure size 600x400 with 1 Axes>"
      ]
     },
     "metadata": {},
     "output_type": "display_data"
    }
   ],
   "source": [
    "# Grouping by Age and calculating total purchase amount for each age group\n",
    "grouped_age_purchase = df.groupby([\"Age\"])[\"Purchase\"].sum()\n",
    "grouped_age_purchase = pd.DataFrame(grouped_age_purchase).sort_values(by=\"Purchase\", ascending=False)\n",
    "\n",
    "# Display total purchase by each age group\n",
    "print(grouped_age_purchase)\n",
    "\n",
    "# Visualizing total purchase by each age group\n",
    "plt.figure(figsize=(6,4))\n",
    "sns.barplot(data=grouped_age_purchase, x=\"Age\", y=\"Purchase\", palette=\"viridis\")\n",
    "plt.title(\"Total Purchase Amount by Age Group\")\n",
    "plt.grid(axis=\"y\", linewidth=0.3, alpha=0.4)\n",
    "plt.xlabel(\"Age\")\n",
    "plt.ylabel(\"Purchase Amount\")\n",
    "plt.show()"
   ]
  },
  {
   "cell_type": "markdown",
   "id": "0e87f7d5-c90b-48a0-a22d-f321b350aafb",
   "metadata": {},
   "source": [
    "**Age group 26-35 has the highest total purchase amount at 975+ Million, while age group 0-17 has the lowest total purchase amount at 64+ Million**"
   ]
  },
  {
   "cell_type": "code",
   "execution_count": 87,
   "id": "6ff7769b-1253-41d5-ab3c-b86426817f19",
   "metadata": {},
   "outputs": [
    {
     "data": {
      "text/html": [
       "<div>\n",
       "<style scoped>\n",
       "    .dataframe tbody tr th:only-of-type {\n",
       "        vertical-align: middle;\n",
       "    }\n",
       "\n",
       "    .dataframe tbody tr th {\n",
       "        vertical-align: top;\n",
       "    }\n",
       "\n",
       "    .dataframe thead th {\n",
       "        text-align: right;\n",
       "    }\n",
       "</style>\n",
       "<table border=\"1\" class=\"dataframe\">\n",
       "  <thead>\n",
       "    <tr style=\"text-align: right;\">\n",
       "      <th></th>\n",
       "      <th>Age</th>\n",
       "      <th>Unique_Users</th>\n",
       "      <th>Total_Purchase_Amount</th>\n",
       "      <th>Average_Purchase_Amount_by_Age</th>\n",
       "    </tr>\n",
       "  </thead>\n",
       "  <tbody>\n",
       "    <tr>\n",
       "      <th>0</th>\n",
       "      <td>26-35</td>\n",
       "      <td>2053</td>\n",
       "      <td>975615086.0</td>\n",
       "      <td>475214.362396</td>\n",
       "    </tr>\n",
       "    <tr>\n",
       "      <th>1</th>\n",
       "      <td>36-45</td>\n",
       "      <td>1167</td>\n",
       "      <td>492346613.0</td>\n",
       "      <td>421890.842331</td>\n",
       "    </tr>\n",
       "    <tr>\n",
       "      <th>2</th>\n",
       "      <td>18-25</td>\n",
       "      <td>1069</td>\n",
       "      <td>442696277.0</td>\n",
       "      <td>414121.868101</td>\n",
       "    </tr>\n",
       "    <tr>\n",
       "      <th>3</th>\n",
       "      <td>46-50</td>\n",
       "      <td>531</td>\n",
       "      <td>200909949.0</td>\n",
       "      <td>378361.485876</td>\n",
       "    </tr>\n",
       "    <tr>\n",
       "      <th>4</th>\n",
       "      <td>51-55</td>\n",
       "      <td>481</td>\n",
       "      <td>178134937.0</td>\n",
       "      <td>370342.904366</td>\n",
       "    </tr>\n",
       "    <tr>\n",
       "      <th>5</th>\n",
       "      <td>55+</td>\n",
       "      <td>372</td>\n",
       "      <td>97231211.0</td>\n",
       "      <td>261374.223118</td>\n",
       "    </tr>\n",
       "    <tr>\n",
       "      <th>6</th>\n",
       "      <td>0-17</td>\n",
       "      <td>218</td>\n",
       "      <td>64173683.0</td>\n",
       "      <td>294374.692661</td>\n",
       "    </tr>\n",
       "  </tbody>\n",
       "</table>\n",
       "</div>"
      ],
      "text/plain": [
       "     Age  Unique_Users  Total_Purchase_Amount  Average_Purchase_Amount_by_Age\n",
       "0  26-35          2053            975615086.0                   475214.362396\n",
       "1  36-45          1167            492346613.0                   421890.842331\n",
       "2  18-25          1069            442696277.0                   414121.868101\n",
       "3  46-50           531            200909949.0                   378361.485876\n",
       "4  51-55           481            178134937.0                   370342.904366\n",
       "5    55+           372             97231211.0                   261374.223118\n",
       "6   0-17           218             64173683.0                   294374.692661"
      ]
     },
     "execution_count": 87,
     "metadata": {},
     "output_type": "execute_result"
    }
   ],
   "source": [
    "# Merging grouped_age and grouped_age_purchase to calculat the average purchase amount by age group per user\n",
    "grouped_merged = pd.merge(grouped_age, grouped_age_purchase, on=\"Age\", how=\"inner\")\n",
    "\n",
    "# Renaming the columns\n",
    "grouped_merged.rename(columns = \n",
    "                      {\"User_ID\" : \"Unique_Users\",\n",
    "                       \"Purchase\" : \"Total_Purchase_Amount\"},\n",
    "                       inplace=True\n",
    "                     )\n",
    "\n",
    "# Calculating average purchase amount\n",
    "grouped_merged[\"Average_Purchase_Amount_by_Age\"] = grouped_merged[\"Total_Purchase_Amount\"] / grouped_merged[\"Unique_Users\"]\n",
    "grouped_merged"
   ]
  },
  {
   "cell_type": "code",
   "execution_count": 91,
   "id": "e6fb319c-3862-43d1-b2cb-6eeb6f49c621",
   "metadata": {},
   "outputs": [
    {
     "data": {
      "image/png": "[encoded data removed]",
      "text/plain": [
       "<Figure size 600x400 with 1 Axes>"
      ]
     },
     "metadata": {},
     "output_type": "display_data"
    }
   ],
   "source": [
    "# Visualizing total purchase by each age group\n",
    "plt.figure(figsize=(6,4))\n",
    "sns.barplot(data=grouped_merged, x=\"Age\", y=\"Average_Purchase_Amount_by_Age\", palette=\"viridis\")\n",
    "plt.title(\"Average Purchase Amount by Age Group\")\n",
    "plt.grid(axis=\"y\", linewidth=0.3, alpha=0.4)\n",
    "plt.xlabel(\"Age\")\n",
    "plt.ylabel(\"Average Purchase Amount\")\n",
    "plt.show()"
   ]
  },
  {
   "cell_type": "markdown",
   "id": "978dc626-d782-4300-98a9-9ce629edb7d4",
   "metadata": {},
   "source": [
    "**As expected, age group 26-35 has the highest average purchase amount per user. 0-17 age group had the lowest total purchase but it pips 55+ age group in average purchase amount**"
   ]
  },
  {
   "cell_type": "markdown",
   "id": "1ce1143c-0da9-444d-b3dc-42a2ac86b384",
   "metadata": {},
   "source": [
    "### Analyzing Occupation Column"
   ]
  },
  {
   "cell_type": "code",
   "execution_count": 41,
   "id": "e9a400fa-3a79-4a68-84b2-5ad7631d2275",
   "metadata": {},
   "outputs": [
    {
     "data": {
      "text/plain": [
       "Occupation\n",
       "4.0     34705\n",
       "0.0     33372\n",
       "7.0     28342\n",
       "1.0     22390\n",
       "17.0    19167\n",
       "20.0    16129\n",
       "12.0    14642\n",
       "14.0    13214\n",
       "2.0     12615\n",
       "16.0    12143\n",
       "6.0      9782\n",
       "3.0      8527\n",
       "10.0     6068\n",
       "5.0      5835\n",
       "15.0     5770\n",
       "11.0     5633\n",
       "19.0     4034\n",
       "13.0     3755\n",
       "18.0     3161\n",
       "9.0      3008\n",
       "8.0       722\n",
       "Name: count, dtype: int64"
      ]
     },
     "execution_count": 41,
     "metadata": {},
     "output_type": "execute_result"
    }
   ],
   "source": [
    "df[\"Occupation\"].value_counts() #Purchases by Occupation"
   ]
  },
  {
   "cell_type": "markdown",
   "id": "0f3df81a-de13-4f0f-9b96-480b9fc306d7",
   "metadata": {},
   "source": [
    "**Occupation 4.0 has the maximum purhcases followed closed by 0.0. While Occupation 8.0 has made the least purchases**"
   ]
  },
  {
   "cell_type": "code",
   "execution_count": 43,
   "id": "33964b70-87cd-4526-a636-4894b067d890",
   "metadata": {},
   "outputs": [
    {
     "data": {
      "image/png": "[encoded data removed]",
      "text/plain": [
       "<Figure size 500x500 with 1 Axes>"
      ]
     },
     "metadata": {},
     "output_type": "display_data"
    }
   ],
   "source": [
    "# Visualizing the distribution of Occupation column\n",
    "occupation_order = df[\"Occupation\"].value_counts().index\n",
    "sns.catplot(y=df[\"Occupation\"], kind=\"count\", order=occupation_order, palette=\"viridis\")\n",
    "plt.title(\"Distribution of Occupation\")\n",
    "plt.show()"
   ]
  },
  {
   "cell_type": "markdown",
   "id": "d27c4025-c70a-4c7c-9556-4190a4bf5b3d",
   "metadata": {},
   "source": [
    "**Occupation 4.0, 0.0, and 7.0 have made the maximum purchases while 19.0, 13.0, 18.0, 9.0 and 8.0 are languishing at the bottom with less than 5000 purhcases**"
   ]
  },
  {
   "cell_type": "markdown",
   "id": "3cab7318-5ec4-4fee-9841-4f1c51e8c316",
   "metadata": {},
   "source": [
    "### Analyzing City_Category Column"
   ]
  },
  {
   "cell_type": "code",
   "execution_count": 46,
   "id": "074b92a0-9c31-4879-bb16-f5ab6ccb8519",
   "metadata": {},
   "outputs": [
    {
     "data": {
      "text/plain": [
       "City_Category\n",
       "B    111124\n",
       "C     81100\n",
       "A     70790\n",
       "Name: count, dtype: int64"
      ]
     },
     "execution_count": 46,
     "metadata": {},
     "output_type": "execute_result"
    }
   ],
   "source": [
    "df[\"City_Category\"].value_counts()"
   ]
  },
  {
   "cell_type": "code",
   "execution_count": 47,
   "id": "6049106a-aa39-4195-b697-cfb43af0ccfa",
   "metadata": {},
   "outputs": [
    {
     "data": {
      "image/png": "[encoded data removed]",
      "text/plain": [
       "<Figure size 400x400 with 1 Axes>"
      ]
     },
     "metadata": {},
     "output_type": "display_data"
    }
   ],
   "source": [
    "# Visualizing the concentration of purchases by City_Category\n",
    "plt.figure(figsize=(4,4))\n",
    "plt.pie(df[\"City_Category\"].value_counts(), labels=df[\"City_Category\"].value_counts().index, autopct= \"%.2f\", explode=[0.2,0,0])\n",
    "plt.title(\"Distribution of City_Category\")\n",
    "plt.tight_layout()\n",
    "plt.show()"
   ]
  },
  {
   "cell_type": "markdown",
   "id": "75ff4bf1-5f6a-458a-b022-b7f26464a62b",
   "metadata": {},
   "source": [
    "**City B has made the maximum purhcases with 42.25% and city C and A are at 30.83% and 26.91% respectively**"
   ]
  },
  {
   "cell_type": "markdown",
   "id": "46273897-8454-4617-942a-8aeb31cbc0d1",
   "metadata": {},
   "source": [
    "### Analyzing Stay_In_Current_City_Years Column"
   ]
  },
  {
   "cell_type": "code",
   "execution_count": 50,
   "id": "5a61fbf6-5729-49f5-86d7-4a44130c8f90",
   "metadata": {},
   "outputs": [
    {
     "data": {
      "text/plain": [
       "Stay_In_Current_City_Years\n",
       "1     92588\n",
       "2     48580\n",
       "3     45569\n",
       "4+    40665\n",
       "0     35612\n",
       "Name: count, dtype: int64"
      ]
     },
     "execution_count": 50,
     "metadata": {},
     "output_type": "execute_result"
    }
   ],
   "source": [
    "df[\"Stay_In_Current_City_Years\"].value_counts()"
   ]
  },
  {
   "cell_type": "code",
   "execution_count": 51,
   "id": "f1836892-5faa-43b3-a50a-6e3046f236e3",
   "metadata": {},
   "outputs": [],
   "source": [
    "# Replacing 4+ with 4 to make the column integer type\n",
    "df[\"Stay_In_Current_City_Years\"] = df[\"Stay_In_Current_City_Years\"].replace(\"4+\", 4)"
   ]
  },
  {
   "cell_type": "code",
   "execution_count": 52,
   "id": "17aa368a-cc4a-4345-9171-fa875646f6fb",
   "metadata": {},
   "outputs": [
    {
     "data": {
      "text/plain": [
       "Stay_In_Current_City_Years\n",
       "1    92588\n",
       "2    48580\n",
       "3    45569\n",
       "4    40665\n",
       "0    35612\n",
       "Name: count, dtype: int64"
      ]
     },
     "execution_count": 52,
     "metadata": {},
     "output_type": "execute_result"
    }
   ],
   "source": [
    "df[\"Stay_In_Current_City_Years\"].value_counts()"
   ]
  },
  {
   "cell_type": "markdown",
   "id": "133b449a-8449-43a9-bf70-98ce9dfafb1c",
   "metadata": {},
   "source": [
    "### Analyzing Marital_Status Column"
   ]
  },
  {
   "cell_type": "code",
   "execution_count": 54,
   "id": "cbfd0063-cc67-44a1-ae72-3181679ad160",
   "metadata": {},
   "outputs": [
    {
     "data": {
      "text/plain": [
       "Marital_Status\n",
       "0.0    155524\n",
       "1.0    107490\n",
       "Name: count, dtype: int64"
      ]
     },
     "execution_count": 54,
     "metadata": {},
     "output_type": "execute_result"
    }
   ],
   "source": [
    "df[\"Marital_Status\"].value_counts()"
   ]
  },
  {
   "cell_type": "code",
   "execution_count": 55,
   "id": "378e2bd1-a10d-4009-8cd4-ae65d18750f7",
   "metadata": {},
   "outputs": [
    {
     "data": {
      "text/html": [
       "<div>\n",
       "<style scoped>\n",
       "    .dataframe tbody tr th:only-of-type {\n",
       "        vertical-align: middle;\n",
       "    }\n",
       "\n",
       "    .dataframe tbody tr th {\n",
       "        vertical-align: top;\n",
       "    }\n",
       "\n",
       "    .dataframe thead th {\n",
       "        text-align: right;\n",
       "    }\n",
       "</style>\n",
       "<table border=\"1\" class=\"dataframe\">\n",
       "  <thead>\n",
       "    <tr style=\"text-align: right;\">\n",
       "      <th></th>\n",
       "      <th>Marital_Status</th>\n",
       "      <th>Unique_Users</th>\n",
       "      <th>total_purchase_amount</th>\n",
       "      <th>Avg_Purchase_Amount</th>\n",
       "    </tr>\n",
       "  </thead>\n",
       "  <tbody>\n",
       "    <tr>\n",
       "      <th>0</th>\n",
       "      <td>0.0</td>\n",
       "      <td>3417</td>\n",
       "      <td>1.447350e+09</td>\n",
       "      <td>423573.265145</td>\n",
       "    </tr>\n",
       "    <tr>\n",
       "      <th>1</th>\n",
       "      <td>1.0</td>\n",
       "      <td>2474</td>\n",
       "      <td>1.003758e+09</td>\n",
       "      <td>405722.679466</td>\n",
       "    </tr>\n",
       "  </tbody>\n",
       "</table>\n",
       "</div>"
      ],
      "text/plain": [
       "   Marital_Status  Unique_Users  total_purchase_amount  Avg_Purchase_Amount\n",
       "0             0.0          3417           1.447350e+09        423573.265145\n",
       "1             1.0          2474           1.003758e+09        405722.679466"
      ]
     },
     "execution_count": 55,
     "metadata": {},
     "output_type": "execute_result"
    }
   ],
   "source": [
    "# Calculating unique users, total purchase amount and average puchase amount according to marital status\n",
    "grouped_marital = df.groupby([\"Marital_Status\"]).agg(Unique_Users = (\"User_ID\", \"nunique\"),\n",
    "                                                     total_purchase_amount = (\"Purchase\", \"sum\")\n",
    "                                                    ).reset_index()\n",
    "\n",
    "grouped_marital[\"Avg_Purchase_Amount\"] = grouped_marital[\"total_purchase_amount\"]/grouped_marital[\"Unique_Users\"]\n",
    "grouped_marital"
   ]
  },
  {
   "cell_type": "markdown",
   "id": "49265902-ab03-4892-b794-a8fbe7ab4776",
   "metadata": {},
   "source": [
    "* **Marital status 0.0 is Unmarried and Marital Status 1.0 is Married**\n",
    "* **The Unmarried group has a higher average purchase amount per user - 423,573 than the married group, which has 405,722**\n",
    "* **The unmarried group also has more users - 3417 than the married group, which has 2474 users**"
   ]
  },
  {
   "cell_type": "markdown",
   "id": "c9564098-1e41-4f62-bb6d-f07f5b754f7a",
   "metadata": {},
   "source": [
    "### Analyzing Purchase Column"
   ]
  },
  {
   "cell_type": "code",
   "execution_count": 58,
   "id": "05869cc4-21ca-4457-b80c-5c408f80a16f",
   "metadata": {},
   "outputs": [
    {
     "data": {
      "image/png": "[encoded data removed]",
      "text/plain": [
       "<Figure size 600x400 with 1 Axes>"
      ]
     },
     "metadata": {},
     "output_type": "display_data"
    }
   ],
   "source": [
    "#Visualizing the distribution of Purchase Column\n",
    "plt.figure(figsize=(6,4))\n",
    "plt.hist(df[\"Purchase\"], bins=5)\n",
    "plt.title(\"Distribution of Purchase Column\")\n",
    "plt.xlabel(\"Purchase\")\n",
    "plt.ylabel(\"Frequency\")\n",
    "plt.grid(linewidth=0.4, alpha=0.4)\n",
    "plt.show()"
   ]
  },
  {
   "cell_type": "code",
   "execution_count": 59,
   "id": "f2fc6956-ac3b-47af-9929-ac2480d2b43e",
   "metadata": {},
   "outputs": [
    {
     "data": {
      "image/png": "[encoded data removed]",
      "text/plain": [
       "<Figure size 600x400 with 1 Axes>"
      ]
     },
     "metadata": {},
     "output_type": "display_data"
    }
   ],
   "source": [
    "# Visualizing the density distribution of Purchase column\n",
    "plt.figure(figsize=(6,4))\n",
    "sns.kdeplot(df[\"Purchase\"], palette=\"Dark2\")\n",
    "plt.title(\"Density Plot of Purchase\")\n",
    "plt.grid(linewidth=0.4, alpha=0.4)\n",
    "plt.show()"
   ]
  },
  {
   "cell_type": "markdown",
   "id": "3002c0f9-9907-41fc-8a85-0f5ca6f4ebac",
   "metadata": {},
   "source": [
    "**The distribution is not normal, it is skewed towards right**"
   ]
  },
  {
   "cell_type": "markdown",
   "id": "2af940c0-9270-4af6-bcbe-2b69f08d16dc",
   "metadata": {},
   "source": [
    "**We will perform Shapiro Wilker test to verify the normality of distribution**"
   ]
  },
  {
   "cell_type": "code",
   "execution_count": 62,
   "id": "19941b5b-578b-45b5-842d-68e002ffe92d",
   "metadata": {},
   "outputs": [
    {
     "name": "stdout",
     "output_type": "stream",
     "text": [
      "Shapiro_test ShapiroResult(statistic=0.9503193681559975, pvalue=3.578262132169902e-112)\n",
      "Distribution is not normal\n"
     ]
    }
   ],
   "source": [
    "from scipy.stats import shapiro #Importing from scipy\n",
    "\n",
    "# Applying shapiro test to Purchase Column\n",
    "shapiro_purchase = shapiro(df[\"Purchase\"])\n",
    "\n",
    "# Display the shapiro_statistic and p_value\n",
    "print(\"Shapiro_test\", shapiro_purchase)\n",
    "\n",
    "# Null hypothesis: H0: Distribution is normal\n",
    "# Alternate hypothesis: H1: Distribution is not normal\n",
    "\n",
    "# Condition for hypothesis outcome\n",
    "if shapiro_purchase[1] < 0.05:\n",
    "    print(\"Distribution is not normal\")\n",
    "else:\n",
    "    print(\"Distribution is normal\")"
   ]
  },
  {
   "cell_type": "markdown",
   "id": "c02de66a-013a-4a08-8d18-4bfe9d72138c",
   "metadata": {},
   "source": [
    "**We have verified the non-nomrality of distribution from Shapiro Wilker test**"
   ]
  },
  {
   "cell_type": "markdown",
   "id": "77ddb063-ee04-4e6b-8953-1bffe7af385a",
   "metadata": {},
   "source": [
    "**We will analyze the distribution of Purchase amount per unique user**"
   ]
  },
  {
   "cell_type": "code",
   "execution_count": 65,
   "id": "85c278c7-5492-499e-9234-e5fb3686a852",
   "metadata": {},
   "outputs": [],
   "source": [
    "# Purchase amount per user\n",
    "group_userid = df.groupby([\"User_ID\"]).agg(Purchase_amount = (\"Purchase\", \"sum\"))"
   ]
  },
  {
   "cell_type": "code",
   "execution_count": 66,
   "id": "cf24bd71-7fcf-4714-947d-50166892b3f0",
   "metadata": {},
   "outputs": [
    {
     "data": {
      "image/png": "[encoded data removed]",
      "text/plain": [
       "<Figure size 600x400 with 1 Axes>"
      ]
     },
     "metadata": {},
     "output_type": "display_data"
    }
   ],
   "source": [
    "#Visualizing the distribution of Purchase Column\n",
    "plt.figure(figsize=(6,4))\n",
    "plt.hist(group_userid[\"Purchase_amount\"], bins=10)\n",
    "plt.title(\"Distribution of Purchase Per User\")\n",
    "plt.xlabel(\"Purchase\")\n",
    "plt.ylabel(\"Frequency\")\n",
    "plt.grid(linewidth=0.4, alpha=0.4)\n",
    "plt.show()"
   ]
  },
  {
   "cell_type": "code",
   "execution_count": 67,
   "id": "a578bddf-9b48-42ff-89d9-778a94aeb50c",
   "metadata": {},
   "outputs": [
    {
     "data": {
      "image/png": "[encoded data removed]",
      "text/plain": [
       "<Figure size 600x400 with 1 Axes>"
      ]
     },
     "metadata": {},
     "output_type": "display_data"
    }
   ],
   "source": [
    "# Visualizing the density distribution of Purchase column\n",
    "plt.figure(figsize=(6,4))\n",
    "sns.kdeplot(group_userid[\"Purchase_amount\"])\n",
    "plt.title(\"Density Plot of Purchase\")\n",
    "plt.grid(linewidth=0.4, alpha=0.4)\n",
    "plt.show()"
   ]
  },
  {
   "cell_type": "code",
   "execution_count": 68,
   "id": "8628cef6-7614-46fb-8a9e-236d20eaf628",
   "metadata": {},
   "outputs": [
    {
     "name": "stdout",
     "output_type": "stream",
     "text": [
      "Shapiro_test ShapiroResult(statistic=0.7380354622135341, pvalue=2.244971882989444e-70)\n",
      "Distribution is not normal\n"
     ]
    }
   ],
   "source": [
    "# Applying shapiro test to Purchase amount per user \n",
    "shapiro_purchase = shapiro(group_userid[\"Purchase_amount\"])\n",
    "\n",
    "# Display the shapiro_statistic and p_value\n",
    "print(\"Shapiro_test\", shapiro_purchase)\n",
    "\n",
    "# Null hypothesis: H0: Distribution is normal\n",
    "# Alternate hypothesis: H1: Distribution is not normal\n",
    "\n",
    "# Condition for hypothesis outcome\n",
    "if shapiro_purchase[1] < 0.05:\n",
    "    print(\"Distribution is not normal\")\n",
    "else:\n",
    "    print(\"Distribution is normal\")"
   ]
  },
  {
   "cell_type": "markdown",
   "id": "16027866-6972-4d3a-96c7-56d8843a02c1",
   "metadata": {},
   "source": [
    "**Purchase amount per user also does not follow not distribution**"
   ]
  },
  {
   "cell_type": "markdown",
   "id": "03fdee74-fc00-47ac-8d25-cc5c59ee057d",
   "metadata": {},
   "source": [
    "### Analyzing Purchase by Age, City and Gender"
   ]
  },
  {
   "cell_type": "code",
   "execution_count": 71,
   "id": "c9202291-b7e5-422d-8443-1779023020d1",
   "metadata": {},
   "outputs": [],
   "source": [
    "grouped_purchase = df.groupby(\n",
    "                [\"Age\", \"City_Category\", \"Gender\"]\n",
    "                ).agg(\n",
    "                    Orders = (\"User_ID\", \"count\"), \n",
    "                    Total_Purchase_Amount = (\"Purchase\", \"sum\"),\n",
    "                    Unique_Users = (\"User_ID\", \"nunique\")\n",
    ")"
   ]
  },
  {
   "cell_type": "code",
   "execution_count": 72,
   "id": "9cb2bbeb-89c5-4565-84d8-6e8eed0a6ab6",
   "metadata": {},
   "outputs": [
    {
     "data": {
      "text/html": [
       "<div>\n",
       "<style scoped>\n",
       "    .dataframe tbody tr th:only-of-type {\n",
       "        vertical-align: middle;\n",
       "    }\n",
       "\n",
       "    .dataframe tbody tr th {\n",
       "        vertical-align: top;\n",
       "    }\n",
       "\n",
       "    .dataframe thead th {\n",
       "        text-align: right;\n",
       "    }\n",
       "</style>\n",
       "<table border=\"1\" class=\"dataframe\">\n",
       "  <thead>\n",
       "    <tr style=\"text-align: right;\">\n",
       "      <th></th>\n",
       "      <th></th>\n",
       "      <th></th>\n",
       "      <th>Orders</th>\n",
       "      <th>Total_Purchase_Amount</th>\n",
       "      <th>Unique_Users</th>\n",
       "    </tr>\n",
       "    <tr>\n",
       "      <th>Age</th>\n",
       "      <th>City_Category</th>\n",
       "      <th>Gender</th>\n",
       "      <th></th>\n",
       "      <th></th>\n",
       "      <th></th>\n",
       "    </tr>\n",
       "  </thead>\n",
       "  <tbody>\n",
       "    <tr>\n",
       "      <th rowspan=\"6\" valign=\"top\">0-17</th>\n",
       "      <th rowspan=\"2\" valign=\"top\">A</th>\n",
       "      <th>F</th>\n",
       "      <td>710</td>\n",
       "      <td>5597020.0</td>\n",
       "      <td>14</td>\n",
       "    </tr>\n",
       "    <tr>\n",
       "      <th>M</th>\n",
       "      <td>517</td>\n",
       "      <td>5154021.0</td>\n",
       "      <td>11</td>\n",
       "    </tr>\n",
       "    <tr>\n",
       "      <th rowspan=\"2\" valign=\"top\">B</th>\n",
       "      <th>F</th>\n",
       "      <td>722</td>\n",
       "      <td>6512597.0</td>\n",
       "      <td>18</td>\n",
       "    </tr>\n",
       "    <tr>\n",
       "      <th>M</th>\n",
       "      <td>1788</td>\n",
       "      <td>16074607.0</td>\n",
       "      <td>32</td>\n",
       "    </tr>\n",
       "    <tr>\n",
       "      <th rowspan=\"2\" valign=\"top\">C</th>\n",
       "      <th>F</th>\n",
       "      <td>958</td>\n",
       "      <td>8347107.0</td>\n",
       "      <td>46</td>\n",
       "    </tr>\n",
       "    <tr>\n",
       "      <th>M</th>\n",
       "      <td>2369</td>\n",
       "      <td>22488331.0</td>\n",
       "      <td>97</td>\n",
       "    </tr>\n",
       "    <tr>\n",
       "      <th rowspan=\"6\" valign=\"top\">18-25</th>\n",
       "      <th rowspan=\"2\" valign=\"top\">A</th>\n",
       "      <th>F</th>\n",
       "      <td>3006</td>\n",
       "      <td>24973282.0</td>\n",
       "      <td>56</td>\n",
       "    </tr>\n",
       "    <tr>\n",
       "      <th>M</th>\n",
       "      <td>10315</td>\n",
       "      <td>92790051.0</td>\n",
       "      <td>158</td>\n",
       "    </tr>\n",
       "    <tr>\n",
       "      <th rowspan=\"2\" valign=\"top\">B</th>\n",
       "      <th>F</th>\n",
       "      <td>5676</td>\n",
       "      <td>45643142.0</td>\n",
       "      <td>94</td>\n",
       "    </tr>\n",
       "    <tr>\n",
       "      <th>M</th>\n",
       "      <td>15477</td>\n",
       "      <td>145290354.0</td>\n",
       "      <td>237</td>\n",
       "    </tr>\n",
       "    <tr>\n",
       "      <th rowspan=\"2\" valign=\"top\">C</th>\n",
       "      <th>F</th>\n",
       "      <td>3179</td>\n",
       "      <td>29087161.0</td>\n",
       "      <td>137</td>\n",
       "    </tr>\n",
       "    <tr>\n",
       "      <th>M</th>\n",
       "      <td>10540</td>\n",
       "      <td>104912287.0</td>\n",
       "      <td>387</td>\n",
       "    </tr>\n",
       "    <tr>\n",
       "      <th rowspan=\"6\" valign=\"top\">26-35</th>\n",
       "      <th rowspan=\"2\" valign=\"top\">A</th>\n",
       "      <th>F</th>\n",
       "      <td>8250</td>\n",
       "      <td>72221623.0</td>\n",
       "      <td>123</td>\n",
       "    </tr>\n",
       "    <tr>\n",
       "      <th>M</th>\n",
       "      <td>27039</td>\n",
       "      <td>244667576.0</td>\n",
       "      <td>338</td>\n",
       "    </tr>\n",
       "    <tr>\n",
       "      <th rowspan=\"2\" valign=\"top\">B</th>\n",
       "      <th>F</th>\n",
       "      <td>10186</td>\n",
       "      <td>87811418.0</td>\n",
       "      <td>184</td>\n",
       "    </tr>\n",
       "    <tr>\n",
       "      <th>M</th>\n",
       "      <td>33639</td>\n",
       "      <td>314484488.0</td>\n",
       "      <td>468</td>\n",
       "    </tr>\n",
       "    <tr>\n",
       "      <th rowspan=\"2\" valign=\"top\">C</th>\n",
       "      <th>F</th>\n",
       "      <td>5496</td>\n",
       "      <td>50451217.0</td>\n",
       "      <td>238</td>\n",
       "    </tr>\n",
       "    <tr>\n",
       "      <th>M</th>\n",
       "      <td>20302</td>\n",
       "      <td>205978764.0</td>\n",
       "      <td>702</td>\n",
       "    </tr>\n",
       "    <tr>\n",
       "      <th rowspan=\"6\" valign=\"top\">36-45</th>\n",
       "      <th rowspan=\"2\" valign=\"top\">A</th>\n",
       "      <th>F</th>\n",
       "      <td>3340</td>\n",
       "      <td>29231103.0</td>\n",
       "      <td>53</td>\n",
       "    </tr>\n",
       "    <tr>\n",
       "      <th>M</th>\n",
       "      <td>9385</td>\n",
       "      <td>85540082.0</td>\n",
       "      <td>123</td>\n",
       "    </tr>\n",
       "    <tr>\n",
       "      <th rowspan=\"2\" valign=\"top\">B</th>\n",
       "      <th>F</th>\n",
       "      <td>5238</td>\n",
       "      <td>45613855.0</td>\n",
       "      <td>98</td>\n",
       "    </tr>\n",
       "    <tr>\n",
       "      <th>M</th>\n",
       "      <td>17496</td>\n",
       "      <td>161795671.0</td>\n",
       "      <td>237</td>\n",
       "    </tr>\n",
       "    <tr>\n",
       "      <th rowspan=\"2\" valign=\"top\">C</th>\n",
       "      <th>F</th>\n",
       "      <td>4258</td>\n",
       "      <td>40685728.0</td>\n",
       "      <td>182</td>\n",
       "    </tr>\n",
       "    <tr>\n",
       "      <th>M</th>\n",
       "      <td>12679</td>\n",
       "      <td>129480174.0</td>\n",
       "      <td>474</td>\n",
       "    </tr>\n",
       "    <tr>\n",
       "      <th rowspan=\"6\" valign=\"top\">46-50</th>\n",
       "      <th rowspan=\"2\" valign=\"top\">A</th>\n",
       "      <th>F</th>\n",
       "      <td>592</td>\n",
       "      <td>5205351.0</td>\n",
       "      <td>18</td>\n",
       "    </tr>\n",
       "    <tr>\n",
       "      <th>M</th>\n",
       "      <td>3010</td>\n",
       "      <td>24955294.0</td>\n",
       "      <td>35</td>\n",
       "    </tr>\n",
       "    <tr>\n",
       "      <th rowspan=\"2\" valign=\"top\">B</th>\n",
       "      <th>F</th>\n",
       "      <td>3061</td>\n",
       "      <td>26423475.0</td>\n",
       "      <td>58</td>\n",
       "    </tr>\n",
       "    <tr>\n",
       "      <th>M</th>\n",
       "      <td>6626</td>\n",
       "      <td>63955948.0</td>\n",
       "      <td>88</td>\n",
       "    </tr>\n",
       "    <tr>\n",
       "      <th rowspan=\"2\" valign=\"top\">C</th>\n",
       "      <th>F</th>\n",
       "      <td>2623</td>\n",
       "      <td>24338682.0</td>\n",
       "      <td>106</td>\n",
       "    </tr>\n",
       "    <tr>\n",
       "      <th>M</th>\n",
       "      <td>5707</td>\n",
       "      <td>56031199.0</td>\n",
       "      <td>226</td>\n",
       "    </tr>\n",
       "    <tr>\n",
       "      <th rowspan=\"6\" valign=\"top\">51-55</th>\n",
       "      <th rowspan=\"2\" valign=\"top\">A</th>\n",
       "      <th>F</th>\n",
       "      <td>868</td>\n",
       "      <td>7618767.0</td>\n",
       "      <td>21</td>\n",
       "    </tr>\n",
       "    <tr>\n",
       "      <th>M</th>\n",
       "      <td>2050</td>\n",
       "      <td>20178731.0</td>\n",
       "      <td>46</td>\n",
       "    </tr>\n",
       "    <tr>\n",
       "      <th rowspan=\"2\" valign=\"top\">B</th>\n",
       "      <th>F</th>\n",
       "      <td>2127</td>\n",
       "      <td>18807466.0</td>\n",
       "      <td>36</td>\n",
       "    </tr>\n",
       "    <tr>\n",
       "      <th>M</th>\n",
       "      <td>6570</td>\n",
       "      <td>62627085.0</td>\n",
       "      <td>99</td>\n",
       "    </tr>\n",
       "    <tr>\n",
       "      <th rowspan=\"2\" valign=\"top\">C</th>\n",
       "      <th>F</th>\n",
       "      <td>1794</td>\n",
       "      <td>17524214.0</td>\n",
       "      <td>85</td>\n",
       "    </tr>\n",
       "    <tr>\n",
       "      <th>M</th>\n",
       "      <td>5100</td>\n",
       "      <td>51378674.0</td>\n",
       "      <td>194</td>\n",
       "    </tr>\n",
       "    <tr>\n",
       "      <th rowspan=\"6\" valign=\"top\">55+</th>\n",
       "      <th rowspan=\"2\" valign=\"top\">A</th>\n",
       "      <th>F</th>\n",
       "      <td>169</td>\n",
       "      <td>1626990.0</td>\n",
       "      <td>10</td>\n",
       "    </tr>\n",
       "    <tr>\n",
       "      <th>M</th>\n",
       "      <td>1539</td>\n",
       "      <td>12950185.0</td>\n",
       "      <td>39</td>\n",
       "    </tr>\n",
       "    <tr>\n",
       "      <th rowspan=\"2\" valign=\"top\">B</th>\n",
       "      <th>F</th>\n",
       "      <td>662</td>\n",
       "      <td>5948655.0</td>\n",
       "      <td>15</td>\n",
       "    </tr>\n",
       "    <tr>\n",
       "      <th>M</th>\n",
       "      <td>1856</td>\n",
       "      <td>18976096.0</td>\n",
       "      <td>43</td>\n",
       "    </tr>\n",
       "    <tr>\n",
       "      <th rowspan=\"2\" valign=\"top\">C</th>\n",
       "      <th>F</th>\n",
       "      <td>1611</td>\n",
       "      <td>14442974.0</td>\n",
       "      <td>74</td>\n",
       "    </tr>\n",
       "    <tr>\n",
       "      <th>M</th>\n",
       "      <td>4484</td>\n",
       "      <td>43286311.0</td>\n",
       "      <td>191</td>\n",
       "    </tr>\n",
       "  </tbody>\n",
       "</table>\n",
       "</div>"
      ],
      "text/plain": [
       "                            Orders  Total_Purchase_Amount  Unique_Users\n",
       "Age   City_Category Gender                                             \n",
       "0-17  A             F          710              5597020.0            14\n",
       "                    M          517              5154021.0            11\n",
       "      B             F          722              6512597.0            18\n",
       "                    M         1788             16074607.0            32\n",
       "      C             F          958              8347107.0            46\n",
       "                    M         2369             22488331.0            97\n",
       "18-25 A             F         3006             24973282.0            56\n",
       "                    M        10315             92790051.0           158\n",
       "      B             F         5676             45643142.0            94\n",
       "                    M        15477            145290354.0           237\n",
       "      C             F         3179             29087161.0           137\n",
       "                    M        10540            104912287.0           387\n",
       "26-35 A             F         8250             72221623.0           123\n",
       "                    M        27039            244667576.0           338\n",
       "      B             F        10186             87811418.0           184\n",
       "                    M        33639            314484488.0           468\n",
       "      C             F         5496             50451217.0           238\n",
       "                    M        20302            205978764.0           702\n",
       "36-45 A             F         3340             29231103.0            53\n",
       "                    M         9385             85540082.0           123\n",
       "      B             F         5238             45613855.0            98\n",
       "                    M        17496            161795671.0           237\n",
       "      C             F         4258             40685728.0           182\n",
       "                    M        12679            129480174.0           474\n",
       "46-50 A             F          592              5205351.0            18\n",
       "                    M         3010             24955294.0            35\n",
       "      B             F         3061             26423475.0            58\n",
       "                    M         6626             63955948.0            88\n",
       "      C             F         2623             24338682.0           106\n",
       "                    M         5707             56031199.0           226\n",
       "51-55 A             F          868              7618767.0            21\n",
       "                    M         2050             20178731.0            46\n",
       "      B             F         2127             18807466.0            36\n",
       "                    M         6570             62627085.0            99\n",
       "      C             F         1794             17524214.0            85\n",
       "                    M         5100             51378674.0           194\n",
       "55+   A             F          169              1626990.0            10\n",
       "                    M         1539             12950185.0            39\n",
       "      B             F          662              5948655.0            15\n",
       "                    M         1856             18976096.0            43\n",
       "      C             F         1611             14442974.0            74\n",
       "                    M         4484             43286311.0           191"
      ]
     },
     "execution_count": 72,
     "metadata": {},
     "output_type": "execute_result"
    }
   ],
   "source": [
    "grouped_purchase"
   ]
  },
  {
   "cell_type": "code",
   "execution_count": 96,
   "id": "ed46d152-4bc0-453d-8cc6-5e77ba30a42d",
   "metadata": {},
   "outputs": [
    {
     "data": {
      "image/png": "[encoded data removed]",
      "text/plain": [
       "<Figure size 600x400 with 1 Axes>"
      ]
     },
     "metadata": {},
     "output_type": "display_data"
    }
   ],
   "source": [
    "# Visualizing Total Purchase by Age group and City Category\n",
    "plt.figure(figsize=(6,4))\n",
    "sns.barplot(data=grouped_purchase, x=\"Age\", y=\"Total_Purchase_Amount\", hue=\"City_Category\", palette=\"viridis\", estimator=np.sum)\n",
    "plt.title(\"Total Purchase Amount by Age Group and City Category\")\n",
    "plt.grid(axis=\"y\", linewidth=0.3, alpha=0.4)\n",
    "plt.xlabel(\"Age\")\n",
    "plt.ylabel(\"Total Purchase Amount\")\n",
    "plt.show()"
   ]
  },
  {
   "cell_type": "code",
   "execution_count": null,
   "id": "536b2336-1e54-44a6-8309-9333de1525d1",
   "metadata": {},
   "outputs": [],
   "source": [
    "# Visualizing total users by Age group and City Category\n",
    "plt.figure(figsize=(6,4))\n",
    "sns.barplot(data=grouped_purchase, x=\"Age\", y=\"Unique_Users\", hue=\"City_Category\", palette=\"viridis\", estimator=np.sum)\n",
    "plt.title(\"Total Users by Age Group and City Category\")\n",
    "plt.grid(axis=\"y\", linewidth=0.3, alpha=0.4)\n",
    "plt.show()"
   ]
  },
  {
   "cell_type": "markdown",
   "id": "9b36d218-deb2-40b0-bb62-214472773cc8",
   "metadata": {},
   "source": [
    "* **Cities in B-Category consistently wreck in the highest total purchase amount from age groups 18-25 to 51-55, and the cities in category C wreck-in the most users for each age group**\n",
    "* **This shows that City B has a higher average purchase amount compared to City C and City A**"
   ]
  },
  {
   "cell_type": "markdown",
   "id": "f589ddee-fef9-421e-bab3-f3c7768a4b05",
   "metadata": {},
   "source": [
    "<hr>\n",
    "\n",
    "## Encoding Categorical Columns"
   ]
  },
  {
   "cell_type": "code",
   "execution_count": null,
   "id": "55faf3fd-b149-49de-beb6-31cafa9de3f1",
   "metadata": {},
   "outputs": [],
   "source": [
    "from sklearn.preprocessing import LabelEncoder #Importing from skleran"
   ]
  },
  {
   "cell_type": "code",
   "execution_count": null,
   "id": "5d5dfa97-0fbb-4b3f-9bc6-465678b6c44a",
   "metadata": {},
   "outputs": [],
   "source": [
    "encoder = LabelEncoder() # Instnatiating Label encoder"
   ]
  },
  {
   "cell_type": "code",
   "execution_count": null,
   "id": "7c66162c-918b-4028-b8da-13d43ff91e82",
   "metadata": {},
   "outputs": [],
   "source": [
    "# Encoding and keeping a log of encoded classes\n",
    "cat_columns = [\"Gender\", \"Age\", \"City_Category\"]\n",
    "encoded_mapping = []\n",
    "for col in cat_columns:\n",
    "    df[col] = encoder.fit_transform(df[col])\n",
    "    encoded_mapping.append(dict(zip(encoder.classes_, encoder.transform(encoder.classes_))))"
   ]
  },
  {
   "cell_type": "code",
   "execution_count": null,
   "id": "c2912e7f-52a2-45b5-bb94-f9cff6e43bcf",
   "metadata": {},
   "outputs": [],
   "source": [
    "encoded_mapping"
   ]
  },
  {
   "cell_type": "code",
   "execution_count": null,
   "id": "ea072c3f-5d4e-4afb-80d4-7b665e2bc5f9",
   "metadata": {},
   "outputs": [],
   "source": [
    "# Verify the data types after encoding\n",
    "df.info()"
   ]
  },
  {
   "cell_type": "code",
   "execution_count": null,
   "id": "9a0e927d-e59f-4de6-97f3-35e731c99928",
   "metadata": {},
   "outputs": [],
   "source": [
    "# Converting Stay_In_Current_City_Years to numeric format\n",
    "df[\"Stay_In_Current_City_Years\"] = pd.to_numeric(df[\"Stay_In_Current_City_Years\"], errors=\"coerce\")"
   ]
  },
  {
   "cell_type": "code",
   "execution_count": null,
   "id": "9121e63e-d6e7-4dbb-955b-bbb7e4edfa0b",
   "metadata": {},
   "outputs": [],
   "source": [
    "# Verify the data type after conversion\n",
    "df[\"Stay_In_Current_City_Years\"].dtype"
   ]
  },
  {
   "cell_type": "code",
   "execution_count": null,
   "id": "ea42cfb3-f5bb-4f39-8e64-3e4c0841a801",
   "metadata": {},
   "outputs": [],
   "source": [
    "#Verify if all the Product_ID records start with P. If yes, we can strip the initial P and the column can be converted to numerical dtype\n",
    "if (df[\"Product_ID\"].str[0] == \"P\").all():\n",
    "    print(\"All ProductIDs start with P\")\n",
    "else:\n",
    "    print(\"Not all products start with P\")"
   ]
  },
  {
   "cell_type": "code",
   "execution_count": null,
   "id": "21cee928-dc8b-48a4-b036-0c25f7cfc201",
   "metadata": {},
   "outputs": [],
   "source": [
    "# Stripping the Iniital P from all the records in product_ID column\n",
    "df[\"Product_ID\"] = df[\"Product_ID\"].str[1:]"
   ]
  },
  {
   "cell_type": "code",
   "execution_count": null,
   "id": "aa89b0b4-cf01-4e13-a083-1c55fab75cbd",
   "metadata": {},
   "outputs": [],
   "source": [
    "# Converting the Product_ID column to Int dtype\n",
    "df[\"Product_ID\"] = pd.to_numeric(df[\"Product_ID\"], errors=\"coerce\")"
   ]
  },
  {
   "cell_type": "code",
   "execution_count": null,
   "id": "236eb0ff-b610-4a3f-9ad1-e3d7c9d19fb1",
   "metadata": {},
   "outputs": [],
   "source": [
    "# Verify all the data types before proceeding\n",
    "df.info()"
   ]
  },
  {
   "cell_type": "code",
   "execution_count": null,
   "id": "7c71c2fc-ba77-4eac-8bd9-10760212b78e",
   "metadata": {},
   "outputs": [],
   "source": [
    "df.describe().T"
   ]
  },
  {
   "cell_type": "markdown",
   "id": "45a7e05e-ccbc-445c-bc6d-af93f76d4f97",
   "metadata": {},
   "source": [
    "<hr>\n",
    "\n",
    "# Hypothesis Testing"
   ]
  },
  {
   "cell_type": "markdown",
   "id": "ea389612-bdf9-4c40-84c9-dea7ca4a8c17",
   "metadata": {},
   "source": [
    "## Hypothesis 1\n",
    "### It was observed that the average purchase made by the Men of the age 18-25 was 10000. Is it still the same?"
   ]
  },
  {
   "cell_type": "code",
   "execution_count": null,
   "id": "f4cc39e3-68fd-4815-ade8-4872a9547537",
   "metadata": {},
   "outputs": [],
   "source": [
    "#Creating a data frame of men in the age group 18-25\n",
    "df_men_18_25 = df[(df[\"Gender\"] == 1) & (df[\"Age\"] == 1)] \n",
    "df_men_18_25 = pd.DataFrame(df_men_18_25)\n",
    "print(df_men_18_25.shape)"
   ]
  },
  {
   "cell_type": "code",
   "execution_count": null,
   "id": "d7d7f387-e292-47e5-8b39-1824bd264b78",
   "metadata": {},
   "outputs": [],
   "source": [
    "# Getting the Total Purchase amount per each user\n",
    "men1825 = df_men_18_25.groupby([\"User_ID\"])[\"Purchase\"].sum()\n",
    "men1825 = pd.DataFrame(men1825)\n",
    "men1825.head()"
   ]
  },
  {
   "cell_type": "code",
   "execution_count": null,
   "id": "c9d34d34-ad96-4eda-bfb8-6811e7395e65",
   "metadata": {},
   "outputs": [],
   "source": [
    "men1825.shape"
   ]
  },
  {
   "cell_type": "code",
   "execution_count": null,
   "id": "23f66f7e-d951-4142-ba7e-abba905b4c6b",
   "metadata": {},
   "outputs": [],
   "source": [
    "#Generating random sample\n",
    "sample_men1825 = men1825.sample(30, random_state=42)"
   ]
  },
  {
   "cell_type": "markdown",
   "id": "de4b3954-01b6-4c97-9d09-4988efdba1f3",
   "metadata": {},
   "source": [
    "* **Null hypothesis: H0: Average Purchase by Men in 18-25 age group is 10000**\n",
    "* **Alternate hypothesis: H1: Average Purchase by Men in 18-25 age group is not 10000**"
   ]
  },
  {
   "cell_type": "code",
   "execution_count": null,
   "id": "8346d5fd-8fad-41c2-b0a7-b88aa7e47440",
   "metadata": {},
   "outputs": [],
   "source": [
    "# Hypothesized population mean\n",
    "pop_mean = 10000"
   ]
  },
  {
   "cell_type": "code",
   "execution_count": null,
   "id": "386ebd0c-ac07-4d73-ab98-7e72eb4ccba3",
   "metadata": {},
   "outputs": [],
   "source": [
    "from scipy.stats import ttest_1samp #Import ttest_1samp from scipy.stats\n",
    "\n",
    "# Implement t-test\n",
    "t_statistic, p_value = ttest_1samp(sample_men1825, popmean=pop_mean)\n",
    "\n",
    "# Display t_stat and p_value\n",
    "print(\"T-Statisic:\", t_statistic)\n",
    "print(\"p_value\", p_value)\n",
    "\n",
    "# Check the condition for hypothesis\n",
    "if p_value < 0.05:\n",
    "    print(\"We have enough evidence to reject the null hypothesis\")\n",
    "else:\n",
    "    print(\"We do not have evidence to reject the null hypothesis\")"
   ]
  },
  {
   "cell_type": "markdown",
   "id": "61b03cf4-5c70-4b7d-84a1-ace9c6a5c0c4",
   "metadata": {},
   "source": [
    "* **We have enough evidence to reject the null hypothesis and go with alternate hypothesis**\n",
    "* **Hence, we conclude that the average purchcase by men in the age group 18-25 is not 10000**"
   ]
  },
  {
   "cell_type": "markdown",
   "id": "654ff6bb-5008-48d3-b9c6-df473ae6aaf9",
   "metadata": {},
   "source": [
    "<hr>\n",
    "\n",
    "## Hypothesis 2\n",
    "### Is the percentage of men who have spent more than 10000 the same for the ages 18-25 and 26-35?"
   ]
  },
  {
   "cell_type": "markdown",
   "id": "710d9f7a-a41a-4afe-8353-712941ebb70c",
   "metadata": {},
   "source": [
    "* **Null hypothesis H0: The percentage of men who have spent more than 10000 is same for age group 18-25 and 26-35**\n",
    "* **Alternate hypothesis H1: The percentage of men who have spent more than 10000 is not the same for age group 18-25 and 26-35**"
   ]
  },
  {
   "cell_type": "code",
   "execution_count": null,
   "id": "bbb6bc65-029a-4558-8842-e917e703f1f5",
   "metadata": {},
   "outputs": [],
   "source": [
    "# We have dataframe men1825 where we have purchase amount per user\n",
    "# We will create similar dataframe for age group 26-35\n",
    "\n",
    "dfm2635 = df[(df[\"Gender\"] ==1) & (df[\"Age\"] == 2)]   # Creating a dataframe of male in the age group 26-35\n",
    "\n",
    "#Creating dataframe with total purchase amount per user in the age group 26-35\n",
    "men2635 = dfm2635.groupby([\"User_ID\"])[\"Purchase\"].sum()\n",
    "men2635 = pd.DataFrame(men2635)\n",
    "\n",
    "men2635.head()"
   ]
  },
  {
   "cell_type": "code",
   "execution_count": null,
   "id": "c300d585-30be-4302-8a7a-b7cdf32428b9",
   "metadata": {},
   "outputs": [],
   "source": [
    "print(men1825.shape)\n",
    "print(men2635.shape)"
   ]
  },
  {
   "cell_type": "code",
   "execution_count": null,
   "id": "5862924b-8382-42cc-863e-ec41e2c000f0",
   "metadata": {},
   "outputs": [],
   "source": [
    "sample_men1825 = men1825.sample(100, random_state=42)  #Drawing a sample of 100 observation from men1825\n",
    "sample_men2635 = men2635.sample(100, random_state=42)  #Drawing a sample of 100 observation from men2635\n",
    "\n",
    "# Number of observations that have more than 10000 purchase from both the age groups\n",
    "count = [(sample_men1825[\"Purchase\"] > 10000).sum(), (sample_men2635[\"Purchase\"] > 10000).sum()]\n",
    "\n",
    "# Total observations from each sample\n",
    "nobs = [len(sample_men1825), len(sample_men2635)]\n",
    "\n",
    "# Display the observations that satisfy the condition and total observation\n",
    "print(\"Count of Observations with more than 10000 purchase for each age group:\", count)\n",
    "print(\"Total observations from each sample\", nobs)"
   ]
  },
  {
   "cell_type": "code",
   "execution_count": null,
   "id": "2d0262ee-90c7-4168-9087-087e32a74499",
   "metadata": {},
   "outputs": [],
   "source": [
    "from statsmodels.stats.proportion import proportions_ztest #Import proportions_ztest from statsmodels\n",
    "\n",
    "# Implementing Z-test for proportions\n",
    "zstat, p_value = proportions_ztest(count, nobs, alternative=\"two-sided\")\n",
    "\n",
    "# Display Z-stat and p_value\n",
    "print(\"Z -statistic:\", zstat)\n",
    "print(\"p_value:\", p_value)\n",
    "\n",
    "# Check the condition for hypothesis\n",
    "if p_value < 0.05:\n",
    "    print(\"We have enough evidence to reject the null hypothesis\")\n",
    "else:\n",
    "    print(\"We do not have evidence to reject the null hypothesis\")"
   ]
  },
  {
   "cell_type": "markdown",
   "id": "3bb2955c-6236-4662-b002-4dac83bb836b",
   "metadata": {},
   "source": [
    "* **We do not have enough evidence to reject the null hypothesis**\n",
    "* **Hence, we can conclcude that the percentage of men who have spent more than 10000 is same for age groups 18-25 and 26-35**"
   ]
  },
  {
   "cell_type": "markdown",
   "id": "087c3833-f7b6-495e-8152-9cc33d5c0ea1",
   "metadata": {},
   "source": [
    "<hr>\n",
    "\n",
    "## Hypothesis 3\n",
    "### It was observed that the percentage of women that spend more than 10000 was 35%. Is it still the same?"
   ]
  },
  {
   "cell_type": "markdown",
   "id": "62bc0f10-e78c-4025-a0c7-2dbdd483bc24",
   "metadata": {},
   "source": [
    "* **Null hypothesis H0: The percentage of women that spend more than 10000 is 35%**\n",
    "* **Alternate hypothesis H1: The percentage of women that spend more than 10000 is not at 35%**"
   ]
  },
  {
   "cell_type": "code",
   "execution_count": null,
   "id": "2832e0c9-ca62-42d6-8503-59be5da9181f",
   "metadata": {},
   "outputs": [],
   "source": [
    "dfw = df[df[\"Gender\"] == 0] #Creating a dataframe with records of women\n",
    "print(dfw.shape)"
   ]
  },
  {
   "cell_type": "code",
   "execution_count": null,
   "id": "95c023ae-d9a1-4fd8-a9e7-66c9b6c901e4",
   "metadata": {},
   "outputs": [],
   "source": [
    "# Creating a dataframe of total purchase by user for dfw\n",
    "dfw_grp = dfw.groupby([\"User_ID\"])[\"Purchase\"].sum()\n",
    "dfw_grp = pd.DataFrame(dfw_grp)\n",
    "dfw_grp.shape"
   ]
  },
  {
   "cell_type": "code",
   "execution_count": null,
   "id": "b2bf7467-fa41-4e18-9452-820b2821879b",
   "metadata": {},
   "outputs": [],
   "source": [
    "dfw_sample = dfw_grp.sample(100, random_state=42)\n",
    "count = (dfw_sample[\"Purchase\"]>10000).sum()\n",
    "nobs = len(dfw_sample)\n",
    "pop_proportion = 0.35\n",
    "print(\"Observation that satisfy the condition:\", count)\n",
    "print(\"Sample Observations:\", nobs)"
   ]
  },
  {
   "cell_type": "code",
   "execution_count": null,
   "id": "404ff3f9-be25-4da5-9da0-d0f0afcc8659",
   "metadata": {},
   "outputs": [],
   "source": [
    "#Implementing Z-test for proportion\n",
    "z_stat, p_value = proportions_ztest(count, nobs, value=pop_proportion, alternative=\"two-sided\")\n",
    "\n",
    "#Display Z-statistic and p_value\n",
    "print(\"Z -statistic:\", zstat)\n",
    "print(\"p_value:\", p_value)\n",
    "\n",
    "#Check the hypothesis condition\n",
    "if p_value < 0.05:\n",
    "    print(\"We have enough evidence to reject the null hypothesis\")\n",
    "else:\n",
    "    print(\"We do not have evidence to reject the null hypothesis\")"
   ]
  },
  {
   "cell_type": "markdown",
   "id": "a21f7ff5-48ef-4700-85aa-c93dc1fc69cb",
   "metadata": {},
   "source": [
    "**We can conclude that the proportion of women who spent more than 10000 is not 35%**"
   ]
  },
  {
   "cell_type": "markdown",
   "id": "7c665d28-3f09-4e23-a5cd-ae9d11316921",
   "metadata": {},
   "source": [
    "<hr>\n",
    "\n",
    "## Hypothesis 4\n",
    "### Are the variances of the purchase amounts significantly different between men and women in the age group 18-25?"
   ]
  },
  {
   "cell_type": "code",
   "execution_count": null,
   "id": "d9f296d0-2756-4c86-a183-3b3f834afbfd",
   "metadata": {},
   "outputs": [],
   "source": [
    "# We have dataframe men1825 with total purchase amount per user for men in age group 18-25\n",
    "# We will create a similar dataframe for women in the age group 18-25\n",
    "\n",
    "dfw_1825 = df[(df[\"Gender\"] == 0) & (df[\"Age\"] == 1)]\n",
    "women1825 = dfw_1825.groupby([\"User_ID\"])[\"Purchase\"].sum()\n",
    "women1825 = pd.DataFrame(women1825)\n",
    "\n",
    "print(women1825.shape)\n",
    "print(men1825.shape)"
   ]
  },
  {
   "cell_type": "code",
   "execution_count": null,
   "id": "8c625c19-c22a-4595-afb2-034fb21bd77e",
   "metadata": {},
   "outputs": [],
   "source": [
    "# Generating random samples\n",
    "sample_men1825 = men1825.sample(50, random_state=42)\n",
    "sample_women1825 = women1825.sample(50, random_state=42)\n",
    "\n",
    "# Since we are going tot compare variance we only need the Purchase Column\n",
    "purchase_men1825 = men1825[\"Purchase\"]\n",
    "purchase_women1825 = women1825[\"Purchase\"]"
   ]
  },
  {
   "cell_type": "markdown",
   "id": "8f306c9d-a19e-4542-83e6-9a47734ddb50",
   "metadata": {},
   "source": [
    "* **Null Hypothesis: Variances of purchase amount by men and women in 18-25 age groups are equal**\n",
    "* **Alternative Hypothesis: Variances of purchase amount by men and women in 18-25 age groups are not equal**"
   ]
  },
  {
   "cell_type": "code",
   "execution_count": null,
   "id": "092d2c90-da79-4b69-94de-bbf1ab5a50a8",
   "metadata": {},
   "outputs": [],
   "source": [
    "from scipy.stats import levene\n",
    "\n",
    "#Implementing Levene test\n",
    "levene_stats, p_value = levene(purchase_men1825, purchase_women1825)\n",
    "\n",
    "#Display Leven statistic and p_value\n",
    "print(\"Levene Statistic:\", levene_stats)\n",
    "print(\"p_value:\", p_value)\n",
    "\n",
    "# Check the condition of hypothesis\n",
    "if p_value < 0.05:\n",
    "    print(\"We have enough evidence to reject the null hypothesis\")\n",
    "else:\n",
    "    print(\"We do not have evidence to reject the null hypothesis\")"
   ]
  },
  {
   "cell_type": "markdown",
   "id": "82af658c-6a48-48ce-85c3-290f162aa0ac",
   "metadata": {},
   "source": [
    "**Hence, we can conclude that the variance of purchase amount between men and women in the age group 18-25 are not equal**"
   ]
  },
  {
   "cell_type": "markdown",
   "id": "db23def7-9265-438c-aae5-fc854a20a04d",
   "metadata": {},
   "source": [
    "<hr>\n",
    "\n",
    "## Overview of Insights"
   ]
  },
  {
   "cell_type": "markdown",
   "id": "1a65826e-15a3-4f2b-acba-63c80ea24e87",
   "metadata": {},
   "source": [
    "* **Total number of male users is 4225 while female users stand at 1666, making the total users 5891**\n",
    "* **Men made 75.47% of total purchases while women made 24.43%**\n",
    "* **Age group 26-35 has the highest number of purchases - 104,912. It is almost twice as the second highest purchased group, 36-45, which has 52,396 purchases. Age group 0-17 has the least number of purchases at just 7064**\n",
    "* **Age group 26-35 has the highest users with 2053, while the 0-17 age group has the least with 218**\n",
    "* **Age group 26-35 has the highest total purchase amount at 975+ Million, while age group 0-17 has the lowest total purchase amount at 64+ Million**\n",
    "* **As expected, age group 26-35 has the highest average purchase amount per user. 0-17 age group had the lowest total purchase, but it pips the 55+ age group in average purchase amount**\n",
    "* **City B has made the maximum purchases with 42.25%, and cities C and A are at 30.83% and 26.91% respectively**\n",
    "* **The Unmarried group has a higher average purchase amount per user - 423,573 than the married group, which has 405,722**\n",
    "* **The unmarried group also has more users - 3417 than the married group, which has 2474 users**\n",
    "* **Cities in B-Category consistently wreck in the highest total purchase amount from age groups 18-25 to 51-55, and the cities in category C wreck in the most users for each age group**\n",
    "* **This shows that City B has a higher average purchase amount compared to City C and City A**"
   ]
  },
  {
   "cell_type": "markdown",
   "id": "07efc224-3c2b-4478-9a49-2d8c34a4353e",
   "metadata": {},
   "source": [
    "<hr>\n",
    "\n",
    "## Hypothesis Testing Summary"
   ]
  },
  {
   "cell_type": "markdown",
   "id": "5232c612-1e7c-4c5f-a7b4-69d5172ab809",
   "metadata": {},
   "source": [
    "**Hypothesis 1:**\n",
    "* **It was observed that the average purchase made by men of the age group 18-25 was 10000. Is it still the same?¶**\n",
    "* **We had enough evidence using a t-test to conclude that the average purchase by men in the age group 18-25 is not 10000**\n",
    "\n",
    "**Hypothesis 2:**\n",
    "* **Is the percentage of men who have spent more than 10000 the same for the ages 18-25 and 26-35?**\n",
    "* **We have enough evidence using Z-test for proportions to conclude that the percentage of men who have spent more than 10000 is indeed the same for the age groups 18-25 and 26-35.**\n",
    "\n",
    "**Hypothesis 3:**\n",
    "* **It was observed that the percentage of women who spent more than 10000 was 35%. Is it still the same?**\n",
    "* **We have enough evidence using Z-test for proportions to conclude that the proportion of women who spent more than 10000 is not 35%**\n",
    "\n",
    "**Hypothesis 4:**\n",
    "* **Are the variances of the purchase amounts significantly different between men and women in the age group 18-25?**\n",
    "* **We have enough evidence using the Levene test to conclude that the variance of purchase amount between men and women in the age group 18-25 are significantly different**"
   ]
  }
 ],
 "metadata": {
  "kernelspec": {
   "display_name": "Python 3 (ipykernel)",
   "language": "python",
   "name": "python3"
  },
  "language_info": {
   "codemirror_mode": {
    "name": "ipython",
    "version": 3
   },
   "file_extension": ".py",
   "mimetype": "text/x-python",
   "name": "python",
   "nbconvert_exporter": "python",
   "pygments_lexer": "ipython3",
   "version": "3.12.3"
  }
 },
 "nbformat": 4,
 "nbformat_minor": 5
}
